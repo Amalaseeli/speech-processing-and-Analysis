{
  "nbformat": 4,
  "nbformat_minor": 0,
  "metadata": {
    "colab": {
      "provenance": [],
      "authorship_tag": "ABX9TyOVuoYCmc9rKyOjhbPrsT5e",
      "include_colab_link": true
    },
    "kernelspec": {
      "name": "python3",
      "display_name": "Python 3"
    },
    "language_info": {
      "name": "python"
    }
  },
  "cells": [
    {
      "cell_type": "markdown",
      "metadata": {
        "id": "view-in-github",
        "colab_type": "text"
      },
      "source": [
        "<a href=\"https://colab.research.google.com/github/Amalaseeli/speech-processing-and-Analysis/blob/main/speech_processing_and_analysis.ipynb\" target=\"_parent\"><img src=\"https://colab.research.google.com/assets/colab-badge.svg\" alt=\"Open In Colab\"/></a>"
      ]
    },
    {
      "cell_type": "code",
      "execution_count": 21,
      "metadata": {
        "id": "hS9pNONiFlLi",
        "colab": {
          "base_uri": "https://localhost:8080/"
        },
        "outputId": "0a94dbf3-9131-4486-88b1-4a1a790fe38e"
      },
      "outputs": [
        {
          "output_type": "stream",
          "name": "stdout",
          "text": [
            "Requirement already satisfied: opendatasets in /usr/local/lib/python3.10/dist-packages (0.1.22)\n",
            "Requirement already satisfied: tqdm in /usr/local/lib/python3.10/dist-packages (from opendatasets) (4.66.6)\n",
            "Requirement already satisfied: kaggle in /usr/local/lib/python3.10/dist-packages (from opendatasets) (1.6.17)\n",
            "Requirement already satisfied: click in /usr/local/lib/python3.10/dist-packages (from opendatasets) (8.1.7)\n",
            "Requirement already satisfied: six>=1.10 in /usr/local/lib/python3.10/dist-packages (from kaggle->opendatasets) (1.16.0)\n",
            "Requirement already satisfied: certifi>=2023.7.22 in /usr/local/lib/python3.10/dist-packages (from kaggle->opendatasets) (2024.8.30)\n",
            "Requirement already satisfied: python-dateutil in /usr/local/lib/python3.10/dist-packages (from kaggle->opendatasets) (2.8.2)\n",
            "Requirement already satisfied: requests in /usr/local/lib/python3.10/dist-packages (from kaggle->opendatasets) (2.32.3)\n",
            "Requirement already satisfied: python-slugify in /usr/local/lib/python3.10/dist-packages (from kaggle->opendatasets) (8.0.4)\n",
            "Requirement already satisfied: urllib3 in /usr/local/lib/python3.10/dist-packages (from kaggle->opendatasets) (2.2.3)\n",
            "Requirement already satisfied: bleach in /usr/local/lib/python3.10/dist-packages (from kaggle->opendatasets) (6.2.0)\n",
            "Requirement already satisfied: webencodings in /usr/local/lib/python3.10/dist-packages (from bleach->kaggle->opendatasets) (0.5.1)\n",
            "Requirement already satisfied: text-unidecode>=1.3 in /usr/local/lib/python3.10/dist-packages (from python-slugify->kaggle->opendatasets) (1.3)\n",
            "Requirement already satisfied: charset-normalizer<4,>=2 in /usr/local/lib/python3.10/dist-packages (from requests->kaggle->opendatasets) (3.4.0)\n",
            "Requirement already satisfied: idna<4,>=2.5 in /usr/local/lib/python3.10/dist-packages (from requests->kaggle->opendatasets) (3.10)\n"
          ]
        }
      ],
      "source": [
        "!pip install opendatasets"
      ]
    },
    {
      "cell_type": "code",
      "source": [
        "import os\n",
        "import opendatasets as od"
      ],
      "metadata": {
        "id": "W73CPCBIHTQi"
      },
      "execution_count": 22,
      "outputs": []
    },
    {
      "cell_type": "code",
      "source": [
        "od.download('https://www.kaggle.com/datasets/mathurinache/the-lj-speech-dataset')"
      ],
      "metadata": {
        "colab": {
          "base_uri": "https://localhost:8080/"
        },
        "id": "KpzOcAgYHh5V",
        "outputId": "492887b2-8797-4f7f-bb09-2198ec0c9f59"
      },
      "execution_count": 25,
      "outputs": [
        {
          "output_type": "stream",
          "name": "stdout",
          "text": [
            "Please provide your Kaggle credentials to download this dataset. Learn more: http://bit.ly/kaggle-creds\n",
            "Your Kaggle username: amalaseelyarulthasan\n",
            "Your Kaggle Key: ··········\n",
            "Dataset URL: https://www.kaggle.com/datasets/mathurinache/the-lj-speech-dataset\n",
            "Downloading the-lj-speech-dataset.zip to ./the-lj-speech-dataset\n"
          ]
        },
        {
          "output_type": "stream",
          "name": "stderr",
          "text": [
            "100%|██████████| 2.99G/2.99G [00:39<00:00, 80.8MB/s]\n"
          ]
        },
        {
          "output_type": "stream",
          "name": "stdout",
          "text": [
            "\n"
          ]
        }
      ]
    },
    {
      "cell_type": "code",
      "source": [
        "for file_name in os.listdir('/content/Dataset-folder/the-lj-speech-dataset/LJSpeech-1.1'):\n",
        "    print(file_name)"
      ],
      "metadata": {
        "colab": {
          "base_uri": "https://localhost:8080/"
        },
        "id": "OKM3g4MyHvuf",
        "outputId": "a1661d60-e082-46b8-bb0d-959a4456564f"
      },
      "execution_count": 27,
      "outputs": [
        {
          "output_type": "stream",
          "name": "stdout",
          "text": [
            "wavs\n",
            "metadata.csv\n",
            "README\n"
          ]
        }
      ]
    },
    {
      "cell_type": "code",
      "source": [
        "\n",
        "!ls /content/Dataset-folder/the-lj-speech-dataset/LJSpeech-1.1"
      ],
      "metadata": {
        "id": "R5rxyqS-N49B",
        "outputId": "49e34fd5-9334-4599-998d-b77ce0b26557",
        "colab": {
          "base_uri": "https://localhost:8080/"
        }
      },
      "execution_count": 28,
      "outputs": [
        {
          "output_type": "stream",
          "name": "stdout",
          "text": [
            "metadata.csv  README  wavs\n"
          ]
        }
      ]
    },
    {
      "cell_type": "code",
      "source": [
        "from os.path import sep\n",
        "meta_data= pd.read_csv('./Dataset-folder/the-lj-speech-dataset/LJSpeech-1.1/metadata.csv', sep='|', header=None, names=[\"ID\",\"Transcription\",\"Normalized_Transcription\" ])\n",
        "meta_data.head()"
      ],
      "metadata": {
        "id": "NRvcZPFN4zp5",
        "outputId": "13c07e0e-364b-4067-9a21-42da17193d3f",
        "colab": {
          "base_uri": "https://localhost:8080/",
          "height": 293
        }
      },
      "execution_count": 30,
      "outputs": [
        {
          "output_type": "execute_result",
          "data": {
            "text/plain": [
              "           ID                                      Transcription  \\\n",
              "0  LJ001-0001  Printing, in the only sense with which we are ...   \n",
              "1  LJ001-0002                     in being comparatively modern.   \n",
              "2  LJ001-0003  For although the Chinese took impressions from...   \n",
              "3  LJ001-0004  produced the block books, which were the immed...   \n",
              "4  LJ001-0005  the invention of movable metal letters in the ...   \n",
              "\n",
              "                            Normalized_Transcription  \n",
              "0  Printing, in the only sense with which we are ...  \n",
              "1                     in being comparatively modern.  \n",
              "2  For although the Chinese took impressions from...  \n",
              "3  produced the block books, which were the immed...  \n",
              "4  the invention of movable metal letters in the ...  "
            ],
            "text/html": [
              "\n",
              "  <div id=\"df-f7511d00-6da2-4401-930b-e6dc496f2ce2\" class=\"colab-df-container\">\n",
              "    <div>\n",
              "<style scoped>\n",
              "    .dataframe tbody tr th:only-of-type {\n",
              "        vertical-align: middle;\n",
              "    }\n",
              "\n",
              "    .dataframe tbody tr th {\n",
              "        vertical-align: top;\n",
              "    }\n",
              "\n",
              "    .dataframe thead th {\n",
              "        text-align: right;\n",
              "    }\n",
              "</style>\n",
              "<table border=\"1\" class=\"dataframe\">\n",
              "  <thead>\n",
              "    <tr style=\"text-align: right;\">\n",
              "      <th></th>\n",
              "      <th>ID</th>\n",
              "      <th>Transcription</th>\n",
              "      <th>Normalized_Transcription</th>\n",
              "    </tr>\n",
              "  </thead>\n",
              "  <tbody>\n",
              "    <tr>\n",
              "      <th>0</th>\n",
              "      <td>LJ001-0001</td>\n",
              "      <td>Printing, in the only sense with which we are ...</td>\n",
              "      <td>Printing, in the only sense with which we are ...</td>\n",
              "    </tr>\n",
              "    <tr>\n",
              "      <th>1</th>\n",
              "      <td>LJ001-0002</td>\n",
              "      <td>in being comparatively modern.</td>\n",
              "      <td>in being comparatively modern.</td>\n",
              "    </tr>\n",
              "    <tr>\n",
              "      <th>2</th>\n",
              "      <td>LJ001-0003</td>\n",
              "      <td>For although the Chinese took impressions from...</td>\n",
              "      <td>For although the Chinese took impressions from...</td>\n",
              "    </tr>\n",
              "    <tr>\n",
              "      <th>3</th>\n",
              "      <td>LJ001-0004</td>\n",
              "      <td>produced the block books, which were the immed...</td>\n",
              "      <td>produced the block books, which were the immed...</td>\n",
              "    </tr>\n",
              "    <tr>\n",
              "      <th>4</th>\n",
              "      <td>LJ001-0005</td>\n",
              "      <td>the invention of movable metal letters in the ...</td>\n",
              "      <td>the invention of movable metal letters in the ...</td>\n",
              "    </tr>\n",
              "  </tbody>\n",
              "</table>\n",
              "</div>\n",
              "    <div class=\"colab-df-buttons\">\n",
              "\n",
              "  <div class=\"colab-df-container\">\n",
              "    <button class=\"colab-df-convert\" onclick=\"convertToInteractive('df-f7511d00-6da2-4401-930b-e6dc496f2ce2')\"\n",
              "            title=\"Convert this dataframe to an interactive table.\"\n",
              "            style=\"display:none;\">\n",
              "\n",
              "  <svg xmlns=\"http://www.w3.org/2000/svg\" height=\"24px\" viewBox=\"0 -960 960 960\">\n",
              "    <path d=\"M120-120v-720h720v720H120Zm60-500h600v-160H180v160Zm220 220h160v-160H400v160Zm0 220h160v-160H400v160ZM180-400h160v-160H180v160Zm440 0h160v-160H620v160ZM180-180h160v-160H180v160Zm440 0h160v-160H620v160Z\"/>\n",
              "  </svg>\n",
              "    </button>\n",
              "\n",
              "  <style>\n",
              "    .colab-df-container {\n",
              "      display:flex;\n",
              "      gap: 12px;\n",
              "    }\n",
              "\n",
              "    .colab-df-convert {\n",
              "      background-color: #E8F0FE;\n",
              "      border: none;\n",
              "      border-radius: 50%;\n",
              "      cursor: pointer;\n",
              "      display: none;\n",
              "      fill: #1967D2;\n",
              "      height: 32px;\n",
              "      padding: 0 0 0 0;\n",
              "      width: 32px;\n",
              "    }\n",
              "\n",
              "    .colab-df-convert:hover {\n",
              "      background-color: #E2EBFA;\n",
              "      box-shadow: 0px 1px 2px rgba(60, 64, 67, 0.3), 0px 1px 3px 1px rgba(60, 64, 67, 0.15);\n",
              "      fill: #174EA6;\n",
              "    }\n",
              "\n",
              "    .colab-df-buttons div {\n",
              "      margin-bottom: 4px;\n",
              "    }\n",
              "\n",
              "    [theme=dark] .colab-df-convert {\n",
              "      background-color: #3B4455;\n",
              "      fill: #D2E3FC;\n",
              "    }\n",
              "\n",
              "    [theme=dark] .colab-df-convert:hover {\n",
              "      background-color: #434B5C;\n",
              "      box-shadow: 0px 1px 3px 1px rgba(0, 0, 0, 0.15);\n",
              "      filter: drop-shadow(0px 1px 2px rgba(0, 0, 0, 0.3));\n",
              "      fill: #FFFFFF;\n",
              "    }\n",
              "  </style>\n",
              "\n",
              "    <script>\n",
              "      const buttonEl =\n",
              "        document.querySelector('#df-f7511d00-6da2-4401-930b-e6dc496f2ce2 button.colab-df-convert');\n",
              "      buttonEl.style.display =\n",
              "        google.colab.kernel.accessAllowed ? 'block' : 'none';\n",
              "\n",
              "      async function convertToInteractive(key) {\n",
              "        const element = document.querySelector('#df-f7511d00-6da2-4401-930b-e6dc496f2ce2');\n",
              "        const dataTable =\n",
              "          await google.colab.kernel.invokeFunction('convertToInteractive',\n",
              "                                                    [key], {});\n",
              "        if (!dataTable) return;\n",
              "\n",
              "        const docLinkHtml = 'Like what you see? Visit the ' +\n",
              "          '<a target=\"_blank\" href=https://colab.research.google.com/notebooks/data_table.ipynb>data table notebook</a>'\n",
              "          + ' to learn more about interactive tables.';\n",
              "        element.innerHTML = '';\n",
              "        dataTable['output_type'] = 'display_data';\n",
              "        await google.colab.output.renderOutput(dataTable, element);\n",
              "        const docLink = document.createElement('div');\n",
              "        docLink.innerHTML = docLinkHtml;\n",
              "        element.appendChild(docLink);\n",
              "      }\n",
              "    </script>\n",
              "  </div>\n",
              "\n",
              "\n",
              "<div id=\"df-4b5e2756-4bdf-4b5a-a0cb-b28c1507ac98\">\n",
              "  <button class=\"colab-df-quickchart\" onclick=\"quickchart('df-4b5e2756-4bdf-4b5a-a0cb-b28c1507ac98')\"\n",
              "            title=\"Suggest charts\"\n",
              "            style=\"display:none;\">\n",
              "\n",
              "<svg xmlns=\"http://www.w3.org/2000/svg\" height=\"24px\"viewBox=\"0 0 24 24\"\n",
              "     width=\"24px\">\n",
              "    <g>\n",
              "        <path d=\"M19 3H5c-1.1 0-2 .9-2 2v14c0 1.1.9 2 2 2h14c1.1 0 2-.9 2-2V5c0-1.1-.9-2-2-2zM9 17H7v-7h2v7zm4 0h-2V7h2v10zm4 0h-2v-4h2v4z\"/>\n",
              "    </g>\n",
              "</svg>\n",
              "  </button>\n",
              "\n",
              "<style>\n",
              "  .colab-df-quickchart {\n",
              "      --bg-color: #E8F0FE;\n",
              "      --fill-color: #1967D2;\n",
              "      --hover-bg-color: #E2EBFA;\n",
              "      --hover-fill-color: #174EA6;\n",
              "      --disabled-fill-color: #AAA;\n",
              "      --disabled-bg-color: #DDD;\n",
              "  }\n",
              "\n",
              "  [theme=dark] .colab-df-quickchart {\n",
              "      --bg-color: #3B4455;\n",
              "      --fill-color: #D2E3FC;\n",
              "      --hover-bg-color: #434B5C;\n",
              "      --hover-fill-color: #FFFFFF;\n",
              "      --disabled-bg-color: #3B4455;\n",
              "      --disabled-fill-color: #666;\n",
              "  }\n",
              "\n",
              "  .colab-df-quickchart {\n",
              "    background-color: var(--bg-color);\n",
              "    border: none;\n",
              "    border-radius: 50%;\n",
              "    cursor: pointer;\n",
              "    display: none;\n",
              "    fill: var(--fill-color);\n",
              "    height: 32px;\n",
              "    padding: 0;\n",
              "    width: 32px;\n",
              "  }\n",
              "\n",
              "  .colab-df-quickchart:hover {\n",
              "    background-color: var(--hover-bg-color);\n",
              "    box-shadow: 0 1px 2px rgba(60, 64, 67, 0.3), 0 1px 3px 1px rgba(60, 64, 67, 0.15);\n",
              "    fill: var(--button-hover-fill-color);\n",
              "  }\n",
              "\n",
              "  .colab-df-quickchart-complete:disabled,\n",
              "  .colab-df-quickchart-complete:disabled:hover {\n",
              "    background-color: var(--disabled-bg-color);\n",
              "    fill: var(--disabled-fill-color);\n",
              "    box-shadow: none;\n",
              "  }\n",
              "\n",
              "  .colab-df-spinner {\n",
              "    border: 2px solid var(--fill-color);\n",
              "    border-color: transparent;\n",
              "    border-bottom-color: var(--fill-color);\n",
              "    animation:\n",
              "      spin 1s steps(1) infinite;\n",
              "  }\n",
              "\n",
              "  @keyframes spin {\n",
              "    0% {\n",
              "      border-color: transparent;\n",
              "      border-bottom-color: var(--fill-color);\n",
              "      border-left-color: var(--fill-color);\n",
              "    }\n",
              "    20% {\n",
              "      border-color: transparent;\n",
              "      border-left-color: var(--fill-color);\n",
              "      border-top-color: var(--fill-color);\n",
              "    }\n",
              "    30% {\n",
              "      border-color: transparent;\n",
              "      border-left-color: var(--fill-color);\n",
              "      border-top-color: var(--fill-color);\n",
              "      border-right-color: var(--fill-color);\n",
              "    }\n",
              "    40% {\n",
              "      border-color: transparent;\n",
              "      border-right-color: var(--fill-color);\n",
              "      border-top-color: var(--fill-color);\n",
              "    }\n",
              "    60% {\n",
              "      border-color: transparent;\n",
              "      border-right-color: var(--fill-color);\n",
              "    }\n",
              "    80% {\n",
              "      border-color: transparent;\n",
              "      border-right-color: var(--fill-color);\n",
              "      border-bottom-color: var(--fill-color);\n",
              "    }\n",
              "    90% {\n",
              "      border-color: transparent;\n",
              "      border-bottom-color: var(--fill-color);\n",
              "    }\n",
              "  }\n",
              "</style>\n",
              "\n",
              "  <script>\n",
              "    async function quickchart(key) {\n",
              "      const quickchartButtonEl =\n",
              "        document.querySelector('#' + key + ' button');\n",
              "      quickchartButtonEl.disabled = true;  // To prevent multiple clicks.\n",
              "      quickchartButtonEl.classList.add('colab-df-spinner');\n",
              "      try {\n",
              "        const charts = await google.colab.kernel.invokeFunction(\n",
              "            'suggestCharts', [key], {});\n",
              "      } catch (error) {\n",
              "        console.error('Error during call to suggestCharts:', error);\n",
              "      }\n",
              "      quickchartButtonEl.classList.remove('colab-df-spinner');\n",
              "      quickchartButtonEl.classList.add('colab-df-quickchart-complete');\n",
              "    }\n",
              "    (() => {\n",
              "      let quickchartButtonEl =\n",
              "        document.querySelector('#df-4b5e2756-4bdf-4b5a-a0cb-b28c1507ac98 button');\n",
              "      quickchartButtonEl.style.display =\n",
              "        google.colab.kernel.accessAllowed ? 'block' : 'none';\n",
              "    })();\n",
              "  </script>\n",
              "</div>\n",
              "\n",
              "    </div>\n",
              "  </div>\n"
            ],
            "application/vnd.google.colaboratory.intrinsic+json": {
              "type": "dataframe",
              "variable_name": "meta_data",
              "summary": "{\n  \"name\": \"meta_data\",\n  \"rows\": 13100,\n  \"fields\": [\n    {\n      \"column\": \"ID\",\n      \"properties\": {\n        \"dtype\": \"string\",\n        \"num_unique_values\": 13100,\n        \"samples\": [\n          \"LJ015-0247\",\n          \"LJ028-0475\",\n          \"LJ013-0049\"\n        ],\n        \"semantic_type\": \"\",\n        \"description\": \"\"\n      }\n    },\n    {\n      \"column\": \"Transcription\",\n      \"properties\": {\n        \"dtype\": \"string\",\n        \"num_unique_values\": 13074,\n        \"samples\": [\n          \"He acknowledged the encounter with the police officer on the second floor.\",\n          \"Oswald's behavior after the assassination throws little light on his motives.\",\n          \"The Commission also regards the security arrangements worked out by Lawson and Sorrels at Love Field as entirely adequate.\"\n        ],\n        \"semantic_type\": \"\",\n        \"description\": \"\"\n      }\n    },\n    {\n      \"column\": \"Normalized_Transcription\",\n      \"properties\": {\n        \"dtype\": \"string\",\n        \"num_unique_values\": 13058,\n        \"samples\": [\n          \"in the sale of unsound mortgages and in many other ways in which the public lost billions of dollars.\",\n          \"both adaptations to an aerial environment;\",\n          \"I will quote an extract from the reverend gentleman's own journal.\"\n        ],\n        \"semantic_type\": \"\",\n        \"description\": \"\"\n      }\n    }\n  ]\n}"
            }
          },
          "metadata": {},
          "execution_count": 30
        }
      ]
    },
    {
      "cell_type": "code",
      "source": [
        "import librosa"
      ],
      "metadata": {
        "id": "tvJEntNV58xs"
      },
      "execution_count": 31,
      "outputs": []
    },
    {
      "cell_type": "code",
      "source": [
        "import librosa\n",
        "import numpy as np\n",
        "import pandas as pd\n",
        "from os.path import sep, join\n",
        "\n",
        "# Assuming audio files are in 'wavs' folder within the dataset directory\n",
        "audio_dir = './Dataset-folder/the-lj-speech-dataset/LJSpeech-1.1/wavs'\n",
        "\n",
        "def extract_features(audio_file):\n",
        "    y, sr = librosa.load(audio_file, sr=None)  # Load audio file\n",
        "    mfccs = librosa.feature.mfcc(y=y, sr=sr, n_mfcc=13)  # Extract MFCCs\n",
        "    return np.mean(mfccs.T, axis=0)\n",
        "\n",
        "\n"
      ],
      "metadata": {
        "id": "pcrBxm9y6oi9"
      },
      "execution_count": 43,
      "outputs": []
    },
    {
      "cell_type": "code",
      "source": [
        "\n",
        "# Function to process a batch of audio files\n",
        "def process_batch(batch):\n",
        "    features = []\n",
        "    for index, row in batch.iterrows():\n",
        "        # Assuming your DataFrame has a column named 'ID' containing the audio file names\n",
        "        audio_file = join(audio_dir, row['ID'] + '.wav') # Construct the full audio file path using the 'ID' column\n",
        "        feature = extract_features(audio_file)  # Extract features\n",
        "        features.append(feature)\n",
        "    return features"
      ],
      "metadata": {
        "id": "l6o-ZPIK7yur"
      },
      "execution_count": 42,
      "outputs": []
    },
    {
      "cell_type": "code",
      "source": [
        "# Function to create batches and process them\n",
        "def batch_process(data, batch_size):\n",
        "    all_features = []\n",
        "    for start in range(0, len(data), batch_size):\n",
        "        end = min(start + batch_size, len(data))\n",
        "        batch = data[start:end]\n",
        "        features = process_batch(batch)\n",
        "        all_features.extend(features)  # Collect features from all batches\n",
        "        print(f\"Processed batch {start // batch_size + 1}: {len(features)} features extracted.\")\n",
        "\n",
        "    return all_features"
      ],
      "metadata": {
        "id": "_8mdlNu39Ufc"
      },
      "execution_count": 41,
      "outputs": []
    },
    {
      "cell_type": "code",
      "source": [
        "batch_size = 100  # Adjust as necessary\n",
        "extracted_features = batch_process(meta_data, batch_size)"
      ],
      "metadata": {
        "id": "07JGUU-Z9Yuz",
        "outputId": "e978ca80-f5cf-42e0-cc73-1ea3d42ab546",
        "colab": {
          "base_uri": "https://localhost:8080/"
        }
      },
      "execution_count": 45,
      "outputs": [
        {
          "output_type": "stream",
          "name": "stdout",
          "text": [
            "Processed batch 1: 100 features extracted.\n",
            "Processed batch 2: 100 features extracted.\n",
            "Processed batch 3: 100 features extracted.\n",
            "Processed batch 4: 100 features extracted.\n",
            "Processed batch 5: 100 features extracted.\n",
            "Processed batch 6: 100 features extracted.\n",
            "Processed batch 7: 100 features extracted.\n",
            "Processed batch 8: 100 features extracted.\n",
            "Processed batch 9: 100 features extracted.\n",
            "Processed batch 10: 100 features extracted.\n",
            "Processed batch 11: 100 features extracted.\n",
            "Processed batch 12: 100 features extracted.\n",
            "Processed batch 13: 100 features extracted.\n",
            "Processed batch 14: 100 features extracted.\n",
            "Processed batch 15: 100 features extracted.\n",
            "Processed batch 16: 100 features extracted.\n",
            "Processed batch 17: 100 features extracted.\n",
            "Processed batch 18: 100 features extracted.\n",
            "Processed batch 19: 100 features extracted.\n",
            "Processed batch 20: 100 features extracted.\n",
            "Processed batch 21: 100 features extracted.\n",
            "Processed batch 22: 100 features extracted.\n",
            "Processed batch 23: 100 features extracted.\n",
            "Processed batch 24: 100 features extracted.\n",
            "Processed batch 25: 100 features extracted.\n",
            "Processed batch 26: 100 features extracted.\n",
            "Processed batch 27: 100 features extracted.\n",
            "Processed batch 28: 100 features extracted.\n",
            "Processed batch 29: 100 features extracted.\n",
            "Processed batch 30: 100 features extracted.\n",
            "Processed batch 31: 100 features extracted.\n",
            "Processed batch 32: 100 features extracted.\n",
            "Processed batch 33: 100 features extracted.\n",
            "Processed batch 34: 100 features extracted.\n",
            "Processed batch 35: 100 features extracted.\n",
            "Processed batch 36: 100 features extracted.\n",
            "Processed batch 37: 100 features extracted.\n",
            "Processed batch 38: 100 features extracted.\n",
            "Processed batch 39: 100 features extracted.\n",
            "Processed batch 40: 100 features extracted.\n",
            "Processed batch 41: 100 features extracted.\n",
            "Processed batch 42: 100 features extracted.\n",
            "Processed batch 43: 100 features extracted.\n",
            "Processed batch 44: 100 features extracted.\n",
            "Processed batch 45: 100 features extracted.\n",
            "Processed batch 46: 100 features extracted.\n",
            "Processed batch 47: 100 features extracted.\n",
            "Processed batch 48: 100 features extracted.\n",
            "Processed batch 49: 100 features extracted.\n",
            "Processed batch 50: 100 features extracted.\n",
            "Processed batch 51: 100 features extracted.\n",
            "Processed batch 52: 100 features extracted.\n",
            "Processed batch 53: 100 features extracted.\n",
            "Processed batch 54: 100 features extracted.\n",
            "Processed batch 55: 100 features extracted.\n",
            "Processed batch 56: 100 features extracted.\n",
            "Processed batch 57: 100 features extracted.\n",
            "Processed batch 58: 100 features extracted.\n",
            "Processed batch 59: 100 features extracted.\n",
            "Processed batch 60: 100 features extracted.\n",
            "Processed batch 61: 100 features extracted.\n",
            "Processed batch 62: 100 features extracted.\n",
            "Processed batch 63: 100 features extracted.\n",
            "Processed batch 64: 100 features extracted.\n",
            "Processed batch 65: 100 features extracted.\n",
            "Processed batch 66: 100 features extracted.\n",
            "Processed batch 67: 100 features extracted.\n",
            "Processed batch 68: 100 features extracted.\n",
            "Processed batch 69: 100 features extracted.\n",
            "Processed batch 70: 100 features extracted.\n",
            "Processed batch 71: 100 features extracted.\n",
            "Processed batch 72: 100 features extracted.\n",
            "Processed batch 73: 100 features extracted.\n",
            "Processed batch 74: 100 features extracted.\n",
            "Processed batch 75: 100 features extracted.\n",
            "Processed batch 76: 100 features extracted.\n",
            "Processed batch 77: 100 features extracted.\n",
            "Processed batch 78: 100 features extracted.\n",
            "Processed batch 79: 100 features extracted.\n",
            "Processed batch 80: 100 features extracted.\n",
            "Processed batch 81: 100 features extracted.\n",
            "Processed batch 82: 100 features extracted.\n",
            "Processed batch 83: 100 features extracted.\n",
            "Processed batch 84: 100 features extracted.\n",
            "Processed batch 85: 100 features extracted.\n",
            "Processed batch 86: 100 features extracted.\n",
            "Processed batch 87: 100 features extracted.\n",
            "Processed batch 88: 100 features extracted.\n",
            "Processed batch 89: 100 features extracted.\n",
            "Processed batch 90: 100 features extracted.\n",
            "Processed batch 91: 100 features extracted.\n",
            "Processed batch 92: 100 features extracted.\n",
            "Processed batch 93: 100 features extracted.\n",
            "Processed batch 94: 100 features extracted.\n",
            "Processed batch 95: 100 features extracted.\n",
            "Processed batch 96: 100 features extracted.\n",
            "Processed batch 97: 100 features extracted.\n",
            "Processed batch 98: 100 features extracted.\n",
            "Processed batch 99: 100 features extracted.\n",
            "Processed batch 100: 100 features extracted.\n",
            "Processed batch 101: 100 features extracted.\n",
            "Processed batch 102: 100 features extracted.\n",
            "Processed batch 103: 100 features extracted.\n",
            "Processed batch 104: 100 features extracted.\n",
            "Processed batch 105: 100 features extracted.\n",
            "Processed batch 106: 100 features extracted.\n",
            "Processed batch 107: 100 features extracted.\n",
            "Processed batch 108: 100 features extracted.\n",
            "Processed batch 109: 100 features extracted.\n",
            "Processed batch 110: 100 features extracted.\n",
            "Processed batch 111: 100 features extracted.\n",
            "Processed batch 112: 100 features extracted.\n",
            "Processed batch 113: 100 features extracted.\n",
            "Processed batch 114: 100 features extracted.\n",
            "Processed batch 115: 100 features extracted.\n",
            "Processed batch 116: 100 features extracted.\n",
            "Processed batch 117: 100 features extracted.\n",
            "Processed batch 118: 100 features extracted.\n",
            "Processed batch 119: 100 features extracted.\n",
            "Processed batch 120: 100 features extracted.\n",
            "Processed batch 121: 100 features extracted.\n",
            "Processed batch 122: 100 features extracted.\n",
            "Processed batch 123: 100 features extracted.\n",
            "Processed batch 124: 100 features extracted.\n",
            "Processed batch 125: 100 features extracted.\n",
            "Processed batch 126: 100 features extracted.\n",
            "Processed batch 127: 100 features extracted.\n",
            "Processed batch 128: 100 features extracted.\n",
            "Processed batch 129: 100 features extracted.\n",
            "Processed batch 130: 100 features extracted.\n",
            "Processed batch 131: 100 features extracted.\n"
          ]
        }
      ]
    },
    {
      "cell_type": "code",
      "source": [
        "features_df = pd.DataFrame(extracted_features)\n",
        "features_df.to_csv('/content/Dataset-folder/extracted_features.csv', index=False)\n",
        "print(\"Extracted features saved to extracted_features.csv\")"
      ],
      "metadata": {
        "id": "ml5tdR7a_39p",
        "outputId": "4f0dd8ea-885a-46bd-b1e1-5c51c6c3aba9",
        "colab": {
          "base_uri": "https://localhost:8080/"
        }
      },
      "execution_count": 47,
      "outputs": [
        {
          "output_type": "stream",
          "name": "stdout",
          "text": [
            "Extracted features saved to extracted_features.csv\n"
          ]
        }
      ]
    }
  ]
}